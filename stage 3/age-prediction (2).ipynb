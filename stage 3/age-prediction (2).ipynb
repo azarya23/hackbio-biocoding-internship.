{
 "cells": [
  {
   "cell_type": "markdown",
   "metadata": {},
   "source": [
    "# Problem Statement\n",
    "Aging is a complex biological process influenced by genetic, environmental, and epigenetic factors. DNA methylation at specific CpG sites has been shown to correlate with chronological age, leading to the development of epigenetic clocks. However, accurately determining an individual's age from biological samples remains a challenge in aging research, forensic science, and healthcare. Traditional methods often rely on physical or medical assessments, which may not always be precise or feasible. This project aims to develop a machine learning model to estimate an individual's age based on the methylation status of 1000 CpG sites. By doing so, it provides a more accurate measure of biological age, which has critical applications in understanding aging-related diseases, forensic identification, and assessing disease risk. In forensic science, such a model can aid in age estimation from biological evidence, assisting in criminal investigations and missing person cases. In healthcare, it can differentiate between biological and chronological age, helping detect premature aging and assess health risks.\n",
    "\n",
    "# Research Question\n",
    "* How accurately can we predict the chronological age of an individual using DNA methylation data from 1000 CpG sites?\n",
    "* Which regression model performs best for age prediction in this dataset?\n",
    "* Is there a trade-off between model simplicity (fewer features) and accuracy?\n",
    "* How does reducing the number of features affect the model’s predictive performance (as measured by MSE)?\n",
    "\n",
    "# Specific Objectives\n",
    "* Develop a Regression Model for Age Prediction\n",
    "* Compare Model Performance\n",
    "* Investigate Feature Selection Impact\n",
    "* Evaluate the Trade-off Between Simplicity and Accuracy\n",
    "* Identify Key CpG Sites for Age Prediction\n",
    "\n",
    "# Workflow\n",
    "* Data Preprocessing\n",
    "* Feature Selection & Engineering\n",
    "* Model Development\n",
    "* Model Evaluation\n",
    "* Biological Interpretation & Insights"
   ]
  },
  {
   "cell_type": "code",
   "execution_count": 1,
   "metadata": {
    "execution": {
     "iopub.execute_input": "2025-03-09T14:22:39.221612Z",
     "iopub.status.busy": "2025-03-09T14:22:39.221253Z",
     "iopub.status.idle": "2025-03-09T14:22:40.352016Z",
     "shell.execute_reply": "2025-03-09T14:22:40.350811Z",
     "shell.execute_reply.started": "2025-03-09T14:22:39.221582Z"
    },
    "trusted": true
   },
   "outputs": [],
   "source": [
    "import pandas as pd\n",
    "import numpy as np\n",
    "import seaborn as sns\n",
    "import matplotlib.pyplot as plt\n",
    "from sklearn.preprocessing import StandardScaler\n",
    "from sklearn.linear_model import LinearRegression\n",
    "from sklearn.ensemble import RandomForestRegressor\n",
    "from sklearn.feature_selection import RFE\n",
    "from sklearn.model_selection import train_test_split\n",
    "from sklearn.metrics import mean_absolute_error, mean_squared_error, r2_score"
   ]
  },
  {
   "cell_type": "code",
   "execution_count": 2,
   "metadata": {
    "execution": {
     "iopub.execute_input": "2025-03-09T14:22:40.353749Z",
     "iopub.status.busy": "2025-03-09T14:22:40.353248Z",
     "iopub.status.idle": "2025-03-09T14:22:41.962780Z",
     "shell.execute_reply": "2025-03-09T14:22:41.961745Z",
     "shell.execute_reply.started": "2025-03-09T14:22:40.353719Z"
    },
    "trusted": true
   },
   "outputs": [
    {
     "data": {
      "text/html": [
       "<div>\n",
       "<style scoped>\n",
       "    .dataframe tbody tr th:only-of-type {\n",
       "        vertical-align: middle;\n",
       "    }\n",
       "\n",
       "    .dataframe tbody tr th {\n",
       "        vertical-align: top;\n",
       "    }\n",
       "\n",
       "    .dataframe thead th {\n",
       "        text-align: right;\n",
       "    }\n",
       "</style>\n",
       "<table border=\"1\" class=\"dataframe\">\n",
       "  <thead>\n",
       "    <tr style=\"text-align: right;\">\n",
       "      <th></th>\n",
       "      <th>Unnamed: 0</th>\n",
       "      <th>Age</th>\n",
       "      <th>cg26211698</th>\n",
       "      <th>cg03790787</th>\n",
       "      <th>cg04672450</th>\n",
       "      <th>cg14324200</th>\n",
       "      <th>cg04485075</th>\n",
       "      <th>cg19923810</th>\n",
       "      <th>cg21832150</th>\n",
       "      <th>cg02397514</th>\n",
       "      <th>...</th>\n",
       "      <th>cg06532147</th>\n",
       "      <th>cg06659128</th>\n",
       "      <th>cg07311845</th>\n",
       "      <th>cg03515901</th>\n",
       "      <th>cg08455548</th>\n",
       "      <th>cg22415432</th>\n",
       "      <th>cg20401549</th>\n",
       "      <th>cg15812957</th>\n",
       "      <th>cg21825364</th>\n",
       "      <th>cg23654549</th>\n",
       "    </tr>\n",
       "  </thead>\n",
       "  <tbody>\n",
       "    <tr>\n",
       "      <th>0</th>\n",
       "      <td>1</td>\n",
       "      <td>20.786301</td>\n",
       "      <td>0.020558</td>\n",
       "      <td>0.078206</td>\n",
       "      <td>0.012047</td>\n",
       "      <td>0.130174</td>\n",
       "      <td>0.017474</td>\n",
       "      <td>0.754652</td>\n",
       "      <td>0.240184</td>\n",
       "      <td>0.014799</td>\n",
       "      <td>...</td>\n",
       "      <td>0.878861</td>\n",
       "      <td>0.024453</td>\n",
       "      <td>0.063018</td>\n",
       "      <td>0.771269</td>\n",
       "      <td>0.046452</td>\n",
       "      <td>0.036543</td>\n",
       "      <td>0.044264</td>\n",
       "      <td>0.957370</td>\n",
       "      <td>0.974147</td>\n",
       "      <td>0.120803</td>\n",
       "    </tr>\n",
       "    <tr>\n",
       "      <th>1</th>\n",
       "      <td>2</td>\n",
       "      <td>18.158904</td>\n",
       "      <td>0.022684</td>\n",
       "      <td>0.057089</td>\n",
       "      <td>0.009227</td>\n",
       "      <td>0.108734</td>\n",
       "      <td>0.013298</td>\n",
       "      <td>0.720622</td>\n",
       "      <td>0.300895</td>\n",
       "      <td>0.008603</td>\n",
       "      <td>...</td>\n",
       "      <td>0.867806</td>\n",
       "      <td>0.026435</td>\n",
       "      <td>0.046670</td>\n",
       "      <td>0.812142</td>\n",
       "      <td>0.044600</td>\n",
       "      <td>0.027126</td>\n",
       "      <td>0.047299</td>\n",
       "      <td>0.976497</td>\n",
       "      <td>0.981848</td>\n",
       "      <td>0.152501</td>\n",
       "    </tr>\n",
       "    <tr>\n",
       "      <th>2</th>\n",
       "      <td>3</td>\n",
       "      <td>57.868493</td>\n",
       "      <td>0.021980</td>\n",
       "      <td>0.081262</td>\n",
       "      <td>0.011758</td>\n",
       "      <td>0.121616</td>\n",
       "      <td>0.015789</td>\n",
       "      <td>0.810495</td>\n",
       "      <td>0.221584</td>\n",
       "      <td>0.011403</td>\n",
       "      <td>...</td>\n",
       "      <td>0.705278</td>\n",
       "      <td>0.252450</td>\n",
       "      <td>0.205701</td>\n",
       "      <td>0.672509</td>\n",
       "      <td>0.063002</td>\n",
       "      <td>0.038100</td>\n",
       "      <td>0.332500</td>\n",
       "      <td>0.461237</td>\n",
       "      <td>0.963953</td>\n",
       "      <td>0.006958</td>\n",
       "    </tr>\n",
       "    <tr>\n",
       "      <th>3</th>\n",
       "      <td>4</td>\n",
       "      <td>19.706849</td>\n",
       "      <td>0.022296</td>\n",
       "      <td>0.118663</td>\n",
       "      <td>0.009513</td>\n",
       "      <td>0.181430</td>\n",
       "      <td>0.012658</td>\n",
       "      <td>0.812546</td>\n",
       "      <td>0.355360</td>\n",
       "      <td>0.010078</td>\n",
       "      <td>...</td>\n",
       "      <td>0.752295</td>\n",
       "      <td>0.311982</td>\n",
       "      <td>0.245013</td>\n",
       "      <td>0.793210</td>\n",
       "      <td>0.060584</td>\n",
       "      <td>0.026386</td>\n",
       "      <td>0.313625</td>\n",
       "      <td>0.500961</td>\n",
       "      <td>0.973289</td>\n",
       "      <td>0.006869</td>\n",
       "    </tr>\n",
       "    <tr>\n",
       "      <th>4</th>\n",
       "      <td>5</td>\n",
       "      <td>61.956164</td>\n",
       "      <td>0.018492</td>\n",
       "      <td>0.086863</td>\n",
       "      <td>0.009818</td>\n",
       "      <td>0.156035</td>\n",
       "      <td>0.016777</td>\n",
       "      <td>0.746922</td>\n",
       "      <td>0.329234</td>\n",
       "      <td>0.013584</td>\n",
       "      <td>...</td>\n",
       "      <td>0.870432</td>\n",
       "      <td>0.028201</td>\n",
       "      <td>0.042863</td>\n",
       "      <td>0.762644</td>\n",
       "      <td>0.056518</td>\n",
       "      <td>0.036575</td>\n",
       "      <td>0.055431</td>\n",
       "      <td>0.977533</td>\n",
       "      <td>0.980127</td>\n",
       "      <td>0.179412</td>\n",
       "    </tr>\n",
       "  </tbody>\n",
       "</table>\n",
       "<p>5 rows × 27580 columns</p>\n",
       "</div>"
      ],
      "text/plain": [
       "   Unnamed: 0        Age  cg26211698  cg03790787  cg04672450  cg14324200  \\\n",
       "0           1  20.786301    0.020558    0.078206    0.012047    0.130174   \n",
       "1           2  18.158904    0.022684    0.057089    0.009227    0.108734   \n",
       "2           3  57.868493    0.021980    0.081262    0.011758    0.121616   \n",
       "3           4  19.706849    0.022296    0.118663    0.009513    0.181430   \n",
       "4           5  61.956164    0.018492    0.086863    0.009818    0.156035   \n",
       "\n",
       "   cg04485075  cg19923810  cg21832150  cg02397514  ...  cg06532147  \\\n",
       "0    0.017474    0.754652    0.240184    0.014799  ...    0.878861   \n",
       "1    0.013298    0.720622    0.300895    0.008603  ...    0.867806   \n",
       "2    0.015789    0.810495    0.221584    0.011403  ...    0.705278   \n",
       "3    0.012658    0.812546    0.355360    0.010078  ...    0.752295   \n",
       "4    0.016777    0.746922    0.329234    0.013584  ...    0.870432   \n",
       "\n",
       "   cg06659128  cg07311845  cg03515901  cg08455548  cg22415432  cg20401549  \\\n",
       "0    0.024453    0.063018    0.771269    0.046452    0.036543    0.044264   \n",
       "1    0.026435    0.046670    0.812142    0.044600    0.027126    0.047299   \n",
       "2    0.252450    0.205701    0.672509    0.063002    0.038100    0.332500   \n",
       "3    0.311982    0.245013    0.793210    0.060584    0.026386    0.313625   \n",
       "4    0.028201    0.042863    0.762644    0.056518    0.036575    0.055431   \n",
       "\n",
       "   cg15812957  cg21825364  cg23654549  \n",
       "0    0.957370    0.974147    0.120803  \n",
       "1    0.976497    0.981848    0.152501  \n",
       "2    0.461237    0.963953    0.006958  \n",
       "3    0.500961    0.973289    0.006869  \n",
       "4    0.977533    0.980127    0.179412  \n",
       "\n",
       "[5 rows x 27580 columns]"
      ]
     },
     "execution_count": 2,
     "metadata": {},
     "output_type": "execute_result"
    }
   ],
   "source": [
    "df = pd.read_csv(\"/kaggle/input/cpgmeth2age/CpGmeth2Age.csv\")\n",
    "df.head()"
   ]
  },
  {
   "cell_type": "code",
   "execution_count": 3,
   "metadata": {
    "execution": {
     "iopub.execute_input": "2025-03-09T14:22:41.964722Z",
     "iopub.status.busy": "2025-03-09T14:22:41.964382Z",
     "iopub.status.idle": "2025-03-09T14:22:41.971009Z",
     "shell.execute_reply": "2025-03-09T14:22:41.969719Z",
     "shell.execute_reply.started": "2025-03-09T14:22:41.964682Z"
    },
    "trusted": true
   },
   "outputs": [
    {
     "data": {
      "text/plain": [
       "'Unnamed: 0'"
      ]
     },
     "execution_count": 3,
     "metadata": {},
     "output_type": "execute_result"
    }
   ],
   "source": [
    "columns = df.columns.tolist()\n",
    "columns[0]"
   ]
  },
  {
   "cell_type": "code",
   "execution_count": 4,
   "metadata": {
    "execution": {
     "iopub.execute_input": "2025-03-09T14:22:41.973024Z",
     "iopub.status.busy": "2025-03-09T14:22:41.972688Z",
     "iopub.status.idle": "2025-03-09T14:22:42.003210Z",
     "shell.execute_reply": "2025-03-09T14:22:42.001701Z",
     "shell.execute_reply.started": "2025-03-09T14:22:41.972995Z"
    },
    "trusted": true
   },
   "outputs": [],
   "source": [
    "df.drop(\"Unnamed: 0\", axis=1, inplace=True)"
   ]
  },
  {
   "cell_type": "code",
   "execution_count": 5,
   "metadata": {
    "execution": {
     "iopub.execute_input": "2025-03-09T14:22:42.005038Z",
     "iopub.status.busy": "2025-03-09T14:22:42.004664Z",
     "iopub.status.idle": "2025-03-09T14:22:42.034254Z",
     "shell.execute_reply": "2025-03-09T14:22:42.033173Z",
     "shell.execute_reply.started": "2025-03-09T14:22:42.005007Z"
    },
    "trusted": true
   },
   "outputs": [
    {
     "data": {
      "text/html": [
       "<div>\n",
       "<style scoped>\n",
       "    .dataframe tbody tr th:only-of-type {\n",
       "        vertical-align: middle;\n",
       "    }\n",
       "\n",
       "    .dataframe tbody tr th {\n",
       "        vertical-align: top;\n",
       "    }\n",
       "\n",
       "    .dataframe thead th {\n",
       "        text-align: right;\n",
       "    }\n",
       "</style>\n",
       "<table border=\"1\" class=\"dataframe\">\n",
       "  <thead>\n",
       "    <tr style=\"text-align: right;\">\n",
       "      <th></th>\n",
       "      <th>Age</th>\n",
       "      <th>cg26211698</th>\n",
       "      <th>cg03790787</th>\n",
       "      <th>cg04672450</th>\n",
       "      <th>cg14324200</th>\n",
       "      <th>cg04485075</th>\n",
       "      <th>cg19923810</th>\n",
       "      <th>cg21832150</th>\n",
       "      <th>cg02397514</th>\n",
       "      <th>cg08122545</th>\n",
       "      <th>...</th>\n",
       "      <th>cg06532147</th>\n",
       "      <th>cg06659128</th>\n",
       "      <th>cg07311845</th>\n",
       "      <th>cg03515901</th>\n",
       "      <th>cg08455548</th>\n",
       "      <th>cg22415432</th>\n",
       "      <th>cg20401549</th>\n",
       "      <th>cg15812957</th>\n",
       "      <th>cg21825364</th>\n",
       "      <th>cg23654549</th>\n",
       "    </tr>\n",
       "  </thead>\n",
       "  <tbody>\n",
       "    <tr>\n",
       "      <th>0</th>\n",
       "      <td>20.786301</td>\n",
       "      <td>0.020558</td>\n",
       "      <td>0.078206</td>\n",
       "      <td>0.012047</td>\n",
       "      <td>0.130174</td>\n",
       "      <td>0.017474</td>\n",
       "      <td>0.754652</td>\n",
       "      <td>0.240184</td>\n",
       "      <td>0.014799</td>\n",
       "      <td>0.018231</td>\n",
       "      <td>...</td>\n",
       "      <td>0.878861</td>\n",
       "      <td>0.024453</td>\n",
       "      <td>0.063018</td>\n",
       "      <td>0.771269</td>\n",
       "      <td>0.046452</td>\n",
       "      <td>0.036543</td>\n",
       "      <td>0.044264</td>\n",
       "      <td>0.957370</td>\n",
       "      <td>0.974147</td>\n",
       "      <td>0.120803</td>\n",
       "    </tr>\n",
       "    <tr>\n",
       "      <th>1</th>\n",
       "      <td>18.158904</td>\n",
       "      <td>0.022684</td>\n",
       "      <td>0.057089</td>\n",
       "      <td>0.009227</td>\n",
       "      <td>0.108734</td>\n",
       "      <td>0.013298</td>\n",
       "      <td>0.720622</td>\n",
       "      <td>0.300895</td>\n",
       "      <td>0.008603</td>\n",
       "      <td>0.012613</td>\n",
       "      <td>...</td>\n",
       "      <td>0.867806</td>\n",
       "      <td>0.026435</td>\n",
       "      <td>0.046670</td>\n",
       "      <td>0.812142</td>\n",
       "      <td>0.044600</td>\n",
       "      <td>0.027126</td>\n",
       "      <td>0.047299</td>\n",
       "      <td>0.976497</td>\n",
       "      <td>0.981848</td>\n",
       "      <td>0.152501</td>\n",
       "    </tr>\n",
       "    <tr>\n",
       "      <th>2</th>\n",
       "      <td>57.868493</td>\n",
       "      <td>0.021980</td>\n",
       "      <td>0.081262</td>\n",
       "      <td>0.011758</td>\n",
       "      <td>0.121616</td>\n",
       "      <td>0.015789</td>\n",
       "      <td>0.810495</td>\n",
       "      <td>0.221584</td>\n",
       "      <td>0.011403</td>\n",
       "      <td>0.015571</td>\n",
       "      <td>...</td>\n",
       "      <td>0.705278</td>\n",
       "      <td>0.252450</td>\n",
       "      <td>0.205701</td>\n",
       "      <td>0.672509</td>\n",
       "      <td>0.063002</td>\n",
       "      <td>0.038100</td>\n",
       "      <td>0.332500</td>\n",
       "      <td>0.461237</td>\n",
       "      <td>0.963953</td>\n",
       "      <td>0.006958</td>\n",
       "    </tr>\n",
       "    <tr>\n",
       "      <th>3</th>\n",
       "      <td>19.706849</td>\n",
       "      <td>0.022296</td>\n",
       "      <td>0.118663</td>\n",
       "      <td>0.009513</td>\n",
       "      <td>0.181430</td>\n",
       "      <td>0.012658</td>\n",
       "      <td>0.812546</td>\n",
       "      <td>0.355360</td>\n",
       "      <td>0.010078</td>\n",
       "      <td>0.017371</td>\n",
       "      <td>...</td>\n",
       "      <td>0.752295</td>\n",
       "      <td>0.311982</td>\n",
       "      <td>0.245013</td>\n",
       "      <td>0.793210</td>\n",
       "      <td>0.060584</td>\n",
       "      <td>0.026386</td>\n",
       "      <td>0.313625</td>\n",
       "      <td>0.500961</td>\n",
       "      <td>0.973289</td>\n",
       "      <td>0.006869</td>\n",
       "    </tr>\n",
       "    <tr>\n",
       "      <th>4</th>\n",
       "      <td>61.956164</td>\n",
       "      <td>0.018492</td>\n",
       "      <td>0.086863</td>\n",
       "      <td>0.009818</td>\n",
       "      <td>0.156035</td>\n",
       "      <td>0.016777</td>\n",
       "      <td>0.746922</td>\n",
       "      <td>0.329234</td>\n",
       "      <td>0.013584</td>\n",
       "      <td>0.012814</td>\n",
       "      <td>...</td>\n",
       "      <td>0.870432</td>\n",
       "      <td>0.028201</td>\n",
       "      <td>0.042863</td>\n",
       "      <td>0.762644</td>\n",
       "      <td>0.056518</td>\n",
       "      <td>0.036575</td>\n",
       "      <td>0.055431</td>\n",
       "      <td>0.977533</td>\n",
       "      <td>0.980127</td>\n",
       "      <td>0.179412</td>\n",
       "    </tr>\n",
       "  </tbody>\n",
       "</table>\n",
       "<p>5 rows × 27579 columns</p>\n",
       "</div>"
      ],
      "text/plain": [
       "         Age  cg26211698  cg03790787  cg04672450  cg14324200  cg04485075  \\\n",
       "0  20.786301    0.020558    0.078206    0.012047    0.130174    0.017474   \n",
       "1  18.158904    0.022684    0.057089    0.009227    0.108734    0.013298   \n",
       "2  57.868493    0.021980    0.081262    0.011758    0.121616    0.015789   \n",
       "3  19.706849    0.022296    0.118663    0.009513    0.181430    0.012658   \n",
       "4  61.956164    0.018492    0.086863    0.009818    0.156035    0.016777   \n",
       "\n",
       "   cg19923810  cg21832150  cg02397514  cg08122545  ...  cg06532147  \\\n",
       "0    0.754652    0.240184    0.014799    0.018231  ...    0.878861   \n",
       "1    0.720622    0.300895    0.008603    0.012613  ...    0.867806   \n",
       "2    0.810495    0.221584    0.011403    0.015571  ...    0.705278   \n",
       "3    0.812546    0.355360    0.010078    0.017371  ...    0.752295   \n",
       "4    0.746922    0.329234    0.013584    0.012814  ...    0.870432   \n",
       "\n",
       "   cg06659128  cg07311845  cg03515901  cg08455548  cg22415432  cg20401549  \\\n",
       "0    0.024453    0.063018    0.771269    0.046452    0.036543    0.044264   \n",
       "1    0.026435    0.046670    0.812142    0.044600    0.027126    0.047299   \n",
       "2    0.252450    0.205701    0.672509    0.063002    0.038100    0.332500   \n",
       "3    0.311982    0.245013    0.793210    0.060584    0.026386    0.313625   \n",
       "4    0.028201    0.042863    0.762644    0.056518    0.036575    0.055431   \n",
       "\n",
       "   cg15812957  cg21825364  cg23654549  \n",
       "0    0.957370    0.974147    0.120803  \n",
       "1    0.976497    0.981848    0.152501  \n",
       "2    0.461237    0.963953    0.006958  \n",
       "3    0.500961    0.973289    0.006869  \n",
       "4    0.977533    0.980127    0.179412  \n",
       "\n",
       "[5 rows x 27579 columns]"
      ]
     },
     "execution_count": 5,
     "metadata": {},
     "output_type": "execute_result"
    }
   ],
   "source": [
    "df.head()"
   ]
  },
  {
   "cell_type": "code",
   "execution_count": 6,
   "metadata": {
    "execution": {
     "iopub.execute_input": "2025-03-09T14:22:42.035899Z",
     "iopub.status.busy": "2025-03-09T14:22:42.035484Z",
     "iopub.status.idle": "2025-03-09T14:22:42.061140Z",
     "shell.execute_reply": "2025-03-09T14:22:42.059468Z",
     "shell.execute_reply.started": "2025-03-09T14:22:42.035866Z"
    },
    "trusted": true
   },
   "outputs": [],
   "source": [
    "df = df[~(df[\"Age\"] < 0)]"
   ]
  },
  {
   "cell_type": "code",
   "execution_count": 7,
   "metadata": {
    "execution": {
     "iopub.execute_input": "2025-03-09T14:22:42.062708Z",
     "iopub.status.busy": "2025-03-09T14:22:42.062378Z",
     "iopub.status.idle": "2025-03-09T14:22:42.068977Z",
     "shell.execute_reply": "2025-03-09T14:22:42.067768Z",
     "shell.execute_reply.started": "2025-03-09T14:22:42.062679Z"
    },
    "trusted": true
   },
   "outputs": [
    {
     "data": {
      "text/plain": [
       "(78, 27579)"
      ]
     },
     "execution_count": 7,
     "metadata": {},
     "output_type": "execute_result"
    }
   ],
   "source": [
    "df.shape"
   ]
  },
  {
   "cell_type": "code",
   "execution_count": 8,
   "metadata": {
    "execution": {
     "iopub.execute_input": "2025-03-09T14:22:42.070209Z",
     "iopub.status.busy": "2025-03-09T14:22:42.069937Z",
     "iopub.status.idle": "2025-03-09T14:22:42.087454Z",
     "shell.execute_reply": "2025-03-09T14:22:42.086237Z",
     "shell.execute_reply.started": "2025-03-09T14:22:42.070185Z"
    },
    "trusted": true
   },
   "outputs": [],
   "source": [
    "df[\"Age\"] = df[\"Age\"].round()"
   ]
  },
  {
   "cell_type": "code",
   "execution_count": 9,
   "metadata": {
    "execution": {
     "iopub.execute_input": "2025-03-09T14:22:42.091473Z",
     "iopub.status.busy": "2025-03-09T14:22:42.091106Z",
     "iopub.status.idle": "2025-03-09T14:22:42.110904Z",
     "shell.execute_reply": "2025-03-09T14:22:42.109804Z",
     "shell.execute_reply.started": "2025-03-09T14:22:42.091442Z"
    },
    "trusted": true
   },
   "outputs": [
    {
     "data": {
      "text/plain": [
       "0      21.0\n",
       "1      18.0\n",
       "2      58.0\n",
       "3      20.0\n",
       "4      62.0\n",
       "       ... \n",
       "102     6.0\n",
       "103    42.0\n",
       "105    11.0\n",
       "106     1.0\n",
       "107    84.0\n",
       "Name: Age, Length: 78, dtype: float64"
      ]
     },
     "execution_count": 9,
     "metadata": {},
     "output_type": "execute_result"
    }
   ],
   "source": [
    "df[\"Age\"]"
   ]
  },
  {
   "cell_type": "code",
   "execution_count": 10,
   "metadata": {
    "execution": {
     "iopub.execute_input": "2025-03-09T14:22:42.113286Z",
     "iopub.status.busy": "2025-03-09T14:22:42.112948Z",
     "iopub.status.idle": "2025-03-09T14:22:42.132128Z",
     "shell.execute_reply": "2025-03-09T14:22:42.130850Z",
     "shell.execute_reply.started": "2025-03-09T14:22:42.113256Z"
    },
    "trusted": true
   },
   "outputs": [],
   "source": [
    "df[\"Age\"] = df[\"Age\"].astype(int)"
   ]
  },
  {
   "cell_type": "code",
   "execution_count": 11,
   "metadata": {
    "execution": {
     "iopub.execute_input": "2025-03-09T14:22:42.133773Z",
     "iopub.status.busy": "2025-03-09T14:22:42.133250Z",
     "iopub.status.idle": "2025-03-09T14:22:42.167689Z",
     "shell.execute_reply": "2025-03-09T14:22:42.166139Z",
     "shell.execute_reply.started": "2025-03-09T14:22:42.133736Z"
    },
    "trusted": true
   },
   "outputs": [
    {
     "data": {
      "text/html": [
       "<div>\n",
       "<style scoped>\n",
       "    .dataframe tbody tr th:only-of-type {\n",
       "        vertical-align: middle;\n",
       "    }\n",
       "\n",
       "    .dataframe tbody tr th {\n",
       "        vertical-align: top;\n",
       "    }\n",
       "\n",
       "    .dataframe thead th {\n",
       "        text-align: right;\n",
       "    }\n",
       "</style>\n",
       "<table border=\"1\" class=\"dataframe\">\n",
       "  <thead>\n",
       "    <tr style=\"text-align: right;\">\n",
       "      <th></th>\n",
       "      <th>Age</th>\n",
       "      <th>cg26211698</th>\n",
       "      <th>cg03790787</th>\n",
       "      <th>cg04672450</th>\n",
       "      <th>cg14324200</th>\n",
       "      <th>cg04485075</th>\n",
       "      <th>cg19923810</th>\n",
       "      <th>cg21832150</th>\n",
       "      <th>cg02397514</th>\n",
       "      <th>cg08122545</th>\n",
       "      <th>...</th>\n",
       "      <th>cg06532147</th>\n",
       "      <th>cg06659128</th>\n",
       "      <th>cg07311845</th>\n",
       "      <th>cg03515901</th>\n",
       "      <th>cg08455548</th>\n",
       "      <th>cg22415432</th>\n",
       "      <th>cg20401549</th>\n",
       "      <th>cg15812957</th>\n",
       "      <th>cg21825364</th>\n",
       "      <th>cg23654549</th>\n",
       "    </tr>\n",
       "  </thead>\n",
       "  <tbody>\n",
       "    <tr>\n",
       "      <th>0</th>\n",
       "      <td>21</td>\n",
       "      <td>0.020558</td>\n",
       "      <td>0.078206</td>\n",
       "      <td>0.012047</td>\n",
       "      <td>0.130174</td>\n",
       "      <td>0.017474</td>\n",
       "      <td>0.754652</td>\n",
       "      <td>0.240184</td>\n",
       "      <td>0.014799</td>\n",
       "      <td>0.018231</td>\n",
       "      <td>...</td>\n",
       "      <td>0.878861</td>\n",
       "      <td>0.024453</td>\n",
       "      <td>0.063018</td>\n",
       "      <td>0.771269</td>\n",
       "      <td>0.046452</td>\n",
       "      <td>0.036543</td>\n",
       "      <td>0.044264</td>\n",
       "      <td>0.957370</td>\n",
       "      <td>0.974147</td>\n",
       "      <td>0.120803</td>\n",
       "    </tr>\n",
       "    <tr>\n",
       "      <th>1</th>\n",
       "      <td>18</td>\n",
       "      <td>0.022684</td>\n",
       "      <td>0.057089</td>\n",
       "      <td>0.009227</td>\n",
       "      <td>0.108734</td>\n",
       "      <td>0.013298</td>\n",
       "      <td>0.720622</td>\n",
       "      <td>0.300895</td>\n",
       "      <td>0.008603</td>\n",
       "      <td>0.012613</td>\n",
       "      <td>...</td>\n",
       "      <td>0.867806</td>\n",
       "      <td>0.026435</td>\n",
       "      <td>0.046670</td>\n",
       "      <td>0.812142</td>\n",
       "      <td>0.044600</td>\n",
       "      <td>0.027126</td>\n",
       "      <td>0.047299</td>\n",
       "      <td>0.976497</td>\n",
       "      <td>0.981848</td>\n",
       "      <td>0.152501</td>\n",
       "    </tr>\n",
       "    <tr>\n",
       "      <th>2</th>\n",
       "      <td>58</td>\n",
       "      <td>0.021980</td>\n",
       "      <td>0.081262</td>\n",
       "      <td>0.011758</td>\n",
       "      <td>0.121616</td>\n",
       "      <td>0.015789</td>\n",
       "      <td>0.810495</td>\n",
       "      <td>0.221584</td>\n",
       "      <td>0.011403</td>\n",
       "      <td>0.015571</td>\n",
       "      <td>...</td>\n",
       "      <td>0.705278</td>\n",
       "      <td>0.252450</td>\n",
       "      <td>0.205701</td>\n",
       "      <td>0.672509</td>\n",
       "      <td>0.063002</td>\n",
       "      <td>0.038100</td>\n",
       "      <td>0.332500</td>\n",
       "      <td>0.461237</td>\n",
       "      <td>0.963953</td>\n",
       "      <td>0.006958</td>\n",
       "    </tr>\n",
       "    <tr>\n",
       "      <th>3</th>\n",
       "      <td>20</td>\n",
       "      <td>0.022296</td>\n",
       "      <td>0.118663</td>\n",
       "      <td>0.009513</td>\n",
       "      <td>0.181430</td>\n",
       "      <td>0.012658</td>\n",
       "      <td>0.812546</td>\n",
       "      <td>0.355360</td>\n",
       "      <td>0.010078</td>\n",
       "      <td>0.017371</td>\n",
       "      <td>...</td>\n",
       "      <td>0.752295</td>\n",
       "      <td>0.311982</td>\n",
       "      <td>0.245013</td>\n",
       "      <td>0.793210</td>\n",
       "      <td>0.060584</td>\n",
       "      <td>0.026386</td>\n",
       "      <td>0.313625</td>\n",
       "      <td>0.500961</td>\n",
       "      <td>0.973289</td>\n",
       "      <td>0.006869</td>\n",
       "    </tr>\n",
       "    <tr>\n",
       "      <th>4</th>\n",
       "      <td>62</td>\n",
       "      <td>0.018492</td>\n",
       "      <td>0.086863</td>\n",
       "      <td>0.009818</td>\n",
       "      <td>0.156035</td>\n",
       "      <td>0.016777</td>\n",
       "      <td>0.746922</td>\n",
       "      <td>0.329234</td>\n",
       "      <td>0.013584</td>\n",
       "      <td>0.012814</td>\n",
       "      <td>...</td>\n",
       "      <td>0.870432</td>\n",
       "      <td>0.028201</td>\n",
       "      <td>0.042863</td>\n",
       "      <td>0.762644</td>\n",
       "      <td>0.056518</td>\n",
       "      <td>0.036575</td>\n",
       "      <td>0.055431</td>\n",
       "      <td>0.977533</td>\n",
       "      <td>0.980127</td>\n",
       "      <td>0.179412</td>\n",
       "    </tr>\n",
       "  </tbody>\n",
       "</table>\n",
       "<p>5 rows × 27579 columns</p>\n",
       "</div>"
      ],
      "text/plain": [
       "   Age  cg26211698  cg03790787  cg04672450  cg14324200  cg04485075  \\\n",
       "0   21    0.020558    0.078206    0.012047    0.130174    0.017474   \n",
       "1   18    0.022684    0.057089    0.009227    0.108734    0.013298   \n",
       "2   58    0.021980    0.081262    0.011758    0.121616    0.015789   \n",
       "3   20    0.022296    0.118663    0.009513    0.181430    0.012658   \n",
       "4   62    0.018492    0.086863    0.009818    0.156035    0.016777   \n",
       "\n",
       "   cg19923810  cg21832150  cg02397514  cg08122545  ...  cg06532147  \\\n",
       "0    0.754652    0.240184    0.014799    0.018231  ...    0.878861   \n",
       "1    0.720622    0.300895    0.008603    0.012613  ...    0.867806   \n",
       "2    0.810495    0.221584    0.011403    0.015571  ...    0.705278   \n",
       "3    0.812546    0.355360    0.010078    0.017371  ...    0.752295   \n",
       "4    0.746922    0.329234    0.013584    0.012814  ...    0.870432   \n",
       "\n",
       "   cg06659128  cg07311845  cg03515901  cg08455548  cg22415432  cg20401549  \\\n",
       "0    0.024453    0.063018    0.771269    0.046452    0.036543    0.044264   \n",
       "1    0.026435    0.046670    0.812142    0.044600    0.027126    0.047299   \n",
       "2    0.252450    0.205701    0.672509    0.063002    0.038100    0.332500   \n",
       "3    0.311982    0.245013    0.793210    0.060584    0.026386    0.313625   \n",
       "4    0.028201    0.042863    0.762644    0.056518    0.036575    0.055431   \n",
       "\n",
       "   cg15812957  cg21825364  cg23654549  \n",
       "0    0.957370    0.974147    0.120803  \n",
       "1    0.976497    0.981848    0.152501  \n",
       "2    0.461237    0.963953    0.006958  \n",
       "3    0.500961    0.973289    0.006869  \n",
       "4    0.977533    0.980127    0.179412  \n",
       "\n",
       "[5 rows x 27579 columns]"
      ]
     },
     "execution_count": 11,
     "metadata": {},
     "output_type": "execute_result"
    }
   ],
   "source": [
    "df.head()"
   ]
  },
  {
   "cell_type": "code",
   "execution_count": 12,
   "metadata": {
    "execution": {
     "iopub.execute_input": "2025-03-09T14:22:42.169129Z",
     "iopub.status.busy": "2025-03-09T14:22:42.168830Z",
     "iopub.status.idle": "2025-03-09T14:22:45.951550Z",
     "shell.execute_reply": "2025-03-09T14:22:45.950624Z",
     "shell.execute_reply.started": "2025-03-09T14:22:42.169104Z"
    },
    "trusted": true
   },
   "outputs": [
    {
     "data": {
      "text/plain": [
       "0"
      ]
     },
     "execution_count": 12,
     "metadata": {},
     "output_type": "execute_result"
    }
   ],
   "source": [
    "df.duplicated().sum()"
   ]
  },
  {
   "cell_type": "code",
   "execution_count": 13,
   "metadata": {
    "execution": {
     "iopub.execute_input": "2025-03-09T14:22:45.952960Z",
     "iopub.status.busy": "2025-03-09T14:22:45.952577Z",
     "iopub.status.idle": "2025-03-09T14:22:45.992244Z",
     "shell.execute_reply": "2025-03-09T14:22:45.991334Z",
     "shell.execute_reply.started": "2025-03-09T14:22:45.952924Z"
    },
    "trusted": true
   },
   "outputs": [
    {
     "data": {
      "text/html": [
       "<div>\n",
       "<style scoped>\n",
       "    .dataframe tbody tr th:only-of-type {\n",
       "        vertical-align: middle;\n",
       "    }\n",
       "\n",
       "    .dataframe tbody tr th {\n",
       "        vertical-align: top;\n",
       "    }\n",
       "\n",
       "    .dataframe thead th {\n",
       "        text-align: right;\n",
       "    }\n",
       "</style>\n",
       "<table border=\"1\" class=\"dataframe\">\n",
       "  <thead>\n",
       "    <tr style=\"text-align: right;\">\n",
       "      <th></th>\n",
       "      <th>Missing_values</th>\n",
       "    </tr>\n",
       "  </thead>\n",
       "  <tbody>\n",
       "  </tbody>\n",
       "</table>\n",
       "</div>"
      ],
      "text/plain": [
       "Empty DataFrame\n",
       "Columns: [Missing_values]\n",
       "Index: []"
      ]
     },
     "execution_count": 13,
     "metadata": {},
     "output_type": "execute_result"
    }
   ],
   "source": [
    "missing = df.isna().sum()\n",
    "missing_columns = missing[missing > 0]\n",
    "missing_columns_df = missing_columns.to_frame(name=\"Missing_values\")\n",
    "missing_columns_df"
   ]
  },
  {
   "cell_type": "code",
   "execution_count": 14,
   "metadata": {
    "execution": {
     "iopub.execute_input": "2025-03-09T14:22:45.993362Z",
     "iopub.status.busy": "2025-03-09T14:22:45.993078Z",
     "iopub.status.idle": "2025-03-09T14:23:24.391847Z",
     "shell.execute_reply": "2025-03-09T14:23:24.390594Z",
     "shell.execute_reply.started": "2025-03-09T14:22:45.993331Z"
    },
    "trusted": true
   },
   "outputs": [
    {
     "data": {
      "text/html": [
       "<div>\n",
       "<style scoped>\n",
       "    .dataframe tbody tr th:only-of-type {\n",
       "        vertical-align: middle;\n",
       "    }\n",
       "\n",
       "    .dataframe tbody tr th {\n",
       "        vertical-align: top;\n",
       "    }\n",
       "\n",
       "    .dataframe thead th {\n",
       "        text-align: right;\n",
       "    }\n",
       "</style>\n",
       "<table border=\"1\" class=\"dataframe\">\n",
       "  <thead>\n",
       "    <tr style=\"text-align: right;\">\n",
       "      <th></th>\n",
       "      <th>Age</th>\n",
       "      <th>cg26211698</th>\n",
       "      <th>cg03790787</th>\n",
       "      <th>cg04672450</th>\n",
       "      <th>cg14324200</th>\n",
       "      <th>cg04485075</th>\n",
       "      <th>cg19923810</th>\n",
       "      <th>cg21832150</th>\n",
       "      <th>cg02397514</th>\n",
       "      <th>cg08122545</th>\n",
       "      <th>...</th>\n",
       "      <th>cg06532147</th>\n",
       "      <th>cg06659128</th>\n",
       "      <th>cg07311845</th>\n",
       "      <th>cg03515901</th>\n",
       "      <th>cg08455548</th>\n",
       "      <th>cg22415432</th>\n",
       "      <th>cg20401549</th>\n",
       "      <th>cg15812957</th>\n",
       "      <th>cg21825364</th>\n",
       "      <th>cg23654549</th>\n",
       "    </tr>\n",
       "  </thead>\n",
       "  <tbody>\n",
       "    <tr>\n",
       "      <th>count</th>\n",
       "      <td>78.000000</td>\n",
       "      <td>78.000000</td>\n",
       "      <td>78.000000</td>\n",
       "      <td>78.000000</td>\n",
       "      <td>78.000000</td>\n",
       "      <td>78.000000</td>\n",
       "      <td>78.000000</td>\n",
       "      <td>78.000000</td>\n",
       "      <td>78.000000</td>\n",
       "      <td>78.000000</td>\n",
       "      <td>...</td>\n",
       "      <td>78.000000</td>\n",
       "      <td>78.000000</td>\n",
       "      <td>78.000000</td>\n",
       "      <td>78.000000</td>\n",
       "      <td>78.000000</td>\n",
       "      <td>78.000000</td>\n",
       "      <td>78.000000</td>\n",
       "      <td>78.000000</td>\n",
       "      <td>78.000000</td>\n",
       "      <td>78.000000</td>\n",
       "    </tr>\n",
       "    <tr>\n",
       "      <th>mean</th>\n",
       "      <td>36.025641</td>\n",
       "      <td>0.025943</td>\n",
       "      <td>0.091692</td>\n",
       "      <td>0.013966</td>\n",
       "      <td>0.134434</td>\n",
       "      <td>0.021649</td>\n",
       "      <td>0.759146</td>\n",
       "      <td>0.297841</td>\n",
       "      <td>0.014621</td>\n",
       "      <td>0.021463</td>\n",
       "      <td>...</td>\n",
       "      <td>0.813573</td>\n",
       "      <td>0.155444</td>\n",
       "      <td>0.134658</td>\n",
       "      <td>0.766343</td>\n",
       "      <td>0.062142</td>\n",
       "      <td>0.036220</td>\n",
       "      <td>0.169539</td>\n",
       "      <td>0.825664</td>\n",
       "      <td>0.973403</td>\n",
       "      <td>0.100054</td>\n",
       "    </tr>\n",
       "    <tr>\n",
       "      <th>std</th>\n",
       "      <td>24.278136</td>\n",
       "      <td>0.008709</td>\n",
       "      <td>0.022569</td>\n",
       "      <td>0.004681</td>\n",
       "      <td>0.037288</td>\n",
       "      <td>0.010054</td>\n",
       "      <td>0.051761</td>\n",
       "      <td>0.091295</td>\n",
       "      <td>0.005253</td>\n",
       "      <td>0.009111</td>\n",
       "      <td>...</td>\n",
       "      <td>0.074963</td>\n",
       "      <td>0.135055</td>\n",
       "      <td>0.075049</td>\n",
       "      <td>0.059034</td>\n",
       "      <td>0.009505</td>\n",
       "      <td>0.008412</td>\n",
       "      <td>0.131548</td>\n",
       "      <td>0.206061</td>\n",
       "      <td>0.008118</td>\n",
       "      <td>0.094857</td>\n",
       "    </tr>\n",
       "    <tr>\n",
       "      <th>min</th>\n",
       "      <td>0.000000</td>\n",
       "      <td>0.013304</td>\n",
       "      <td>0.050008</td>\n",
       "      <td>0.005251</td>\n",
       "      <td>0.030784</td>\n",
       "      <td>0.009369</td>\n",
       "      <td>0.615981</td>\n",
       "      <td>0.069261</td>\n",
       "      <td>0.007151</td>\n",
       "      <td>0.008875</td>\n",
       "      <td>...</td>\n",
       "      <td>0.590256</td>\n",
       "      <td>0.014499</td>\n",
       "      <td>0.038091</td>\n",
       "      <td>0.616743</td>\n",
       "      <td>0.044600</td>\n",
       "      <td>0.011352</td>\n",
       "      <td>0.024594</td>\n",
       "      <td>0.392934</td>\n",
       "      <td>0.953913</td>\n",
       "      <td>0.005128</td>\n",
       "    </tr>\n",
       "    <tr>\n",
       "      <th>25%</th>\n",
       "      <td>16.250000</td>\n",
       "      <td>0.019196</td>\n",
       "      <td>0.078656</td>\n",
       "      <td>0.010581</td>\n",
       "      <td>0.112698</td>\n",
       "      <td>0.014358</td>\n",
       "      <td>0.729862</td>\n",
       "      <td>0.236802</td>\n",
       "      <td>0.010593</td>\n",
       "      <td>0.015005</td>\n",
       "      <td>...</td>\n",
       "      <td>0.755377</td>\n",
       "      <td>0.030967</td>\n",
       "      <td>0.062757</td>\n",
       "      <td>0.732964</td>\n",
       "      <td>0.056432</td>\n",
       "      <td>0.032122</td>\n",
       "      <td>0.050183</td>\n",
       "      <td>0.585128</td>\n",
       "      <td>0.968692</td>\n",
       "      <td>0.008307</td>\n",
       "    </tr>\n",
       "    <tr>\n",
       "      <th>50%</th>\n",
       "      <td>38.500000</td>\n",
       "      <td>0.023117</td>\n",
       "      <td>0.088856</td>\n",
       "      <td>0.013234</td>\n",
       "      <td>0.132117</td>\n",
       "      <td>0.017887</td>\n",
       "      <td>0.747796</td>\n",
       "      <td>0.319764</td>\n",
       "      <td>0.012969</td>\n",
       "      <td>0.018435</td>\n",
       "      <td>...</td>\n",
       "      <td>0.834692</td>\n",
       "      <td>0.044934</td>\n",
       "      <td>0.122019</td>\n",
       "      <td>0.776203</td>\n",
       "      <td>0.060740</td>\n",
       "      <td>0.036559</td>\n",
       "      <td>0.067685</td>\n",
       "      <td>0.958796</td>\n",
       "      <td>0.974344</td>\n",
       "      <td>0.081026</td>\n",
       "    </tr>\n",
       "    <tr>\n",
       "      <th>75%</th>\n",
       "      <td>58.000000</td>\n",
       "      <td>0.031191</td>\n",
       "      <td>0.100621</td>\n",
       "      <td>0.016206</td>\n",
       "      <td>0.161775</td>\n",
       "      <td>0.025940</td>\n",
       "      <td>0.793418</td>\n",
       "      <td>0.362661</td>\n",
       "      <td>0.016542</td>\n",
       "      <td>0.025684</td>\n",
       "      <td>...</td>\n",
       "      <td>0.875760</td>\n",
       "      <td>0.290343</td>\n",
       "      <td>0.204529</td>\n",
       "      <td>0.812330</td>\n",
       "      <td>0.067103</td>\n",
       "      <td>0.039570</td>\n",
       "      <td>0.296850</td>\n",
       "      <td>0.971295</td>\n",
       "      <td>0.979018</td>\n",
       "      <td>0.178590</td>\n",
       "    </tr>\n",
       "    <tr>\n",
       "      <th>max</th>\n",
       "      <td>84.000000</td>\n",
       "      <td>0.048829</td>\n",
       "      <td>0.161116</td>\n",
       "      <td>0.025177</td>\n",
       "      <td>0.205996</td>\n",
       "      <td>0.047412</td>\n",
       "      <td>0.897253</td>\n",
       "      <td>0.462352</td>\n",
       "      <td>0.027549</td>\n",
       "      <td>0.045089</td>\n",
       "      <td>...</td>\n",
       "      <td>0.927798</td>\n",
       "      <td>0.402717</td>\n",
       "      <td>0.268506</td>\n",
       "      <td>0.844936</td>\n",
       "      <td>0.091766</td>\n",
       "      <td>0.060507</td>\n",
       "      <td>0.415172</td>\n",
       "      <td>0.980822</td>\n",
       "      <td>0.986731</td>\n",
       "      <td>0.340384</td>\n",
       "    </tr>\n",
       "  </tbody>\n",
       "</table>\n",
       "<p>8 rows × 27579 columns</p>\n",
       "</div>"
      ],
      "text/plain": [
       "             Age  cg26211698  cg03790787  cg04672450  cg14324200  cg04485075  \\\n",
       "count  78.000000   78.000000   78.000000   78.000000   78.000000   78.000000   \n",
       "mean   36.025641    0.025943    0.091692    0.013966    0.134434    0.021649   \n",
       "std    24.278136    0.008709    0.022569    0.004681    0.037288    0.010054   \n",
       "min     0.000000    0.013304    0.050008    0.005251    0.030784    0.009369   \n",
       "25%    16.250000    0.019196    0.078656    0.010581    0.112698    0.014358   \n",
       "50%    38.500000    0.023117    0.088856    0.013234    0.132117    0.017887   \n",
       "75%    58.000000    0.031191    0.100621    0.016206    0.161775    0.025940   \n",
       "max    84.000000    0.048829    0.161116    0.025177    0.205996    0.047412   \n",
       "\n",
       "       cg19923810  cg21832150  cg02397514  cg08122545  ...  cg06532147  \\\n",
       "count   78.000000   78.000000   78.000000   78.000000  ...   78.000000   \n",
       "mean     0.759146    0.297841    0.014621    0.021463  ...    0.813573   \n",
       "std      0.051761    0.091295    0.005253    0.009111  ...    0.074963   \n",
       "min      0.615981    0.069261    0.007151    0.008875  ...    0.590256   \n",
       "25%      0.729862    0.236802    0.010593    0.015005  ...    0.755377   \n",
       "50%      0.747796    0.319764    0.012969    0.018435  ...    0.834692   \n",
       "75%      0.793418    0.362661    0.016542    0.025684  ...    0.875760   \n",
       "max      0.897253    0.462352    0.027549    0.045089  ...    0.927798   \n",
       "\n",
       "       cg06659128  cg07311845  cg03515901  cg08455548  cg22415432  cg20401549  \\\n",
       "count   78.000000   78.000000   78.000000   78.000000   78.000000   78.000000   \n",
       "mean     0.155444    0.134658    0.766343    0.062142    0.036220    0.169539   \n",
       "std      0.135055    0.075049    0.059034    0.009505    0.008412    0.131548   \n",
       "min      0.014499    0.038091    0.616743    0.044600    0.011352    0.024594   \n",
       "25%      0.030967    0.062757    0.732964    0.056432    0.032122    0.050183   \n",
       "50%      0.044934    0.122019    0.776203    0.060740    0.036559    0.067685   \n",
       "75%      0.290343    0.204529    0.812330    0.067103    0.039570    0.296850   \n",
       "max      0.402717    0.268506    0.844936    0.091766    0.060507    0.415172   \n",
       "\n",
       "       cg15812957  cg21825364  cg23654549  \n",
       "count   78.000000   78.000000   78.000000  \n",
       "mean     0.825664    0.973403    0.100054  \n",
       "std      0.206061    0.008118    0.094857  \n",
       "min      0.392934    0.953913    0.005128  \n",
       "25%      0.585128    0.968692    0.008307  \n",
       "50%      0.958796    0.974344    0.081026  \n",
       "75%      0.971295    0.979018    0.178590  \n",
       "max      0.980822    0.986731    0.340384  \n",
       "\n",
       "[8 rows x 27579 columns]"
      ]
     },
     "execution_count": 14,
     "metadata": {},
     "output_type": "execute_result"
    }
   ],
   "source": [
    "df.describe()"
   ]
  },
  {
   "cell_type": "code",
   "execution_count": 15,
   "metadata": {
    "execution": {
     "iopub.execute_input": "2025-03-09T14:23:24.393255Z",
     "iopub.status.busy": "2025-03-09T14:23:24.392876Z",
     "iopub.status.idle": "2025-03-09T14:23:24.405413Z",
     "shell.execute_reply": "2025-03-09T14:23:24.404255Z",
     "shell.execute_reply.started": "2025-03-09T14:23:24.393218Z"
    },
    "trusted": true
   },
   "outputs": [],
   "source": [
    "X = df.iloc[:,1:]\n",
    "y = df.iloc[:,0]"
   ]
  },
  {
   "cell_type": "markdown",
   "metadata": {},
   "source": [
    "# Data Spliting"
   ]
  },
  {
   "cell_type": "code",
   "execution_count": 16,
   "metadata": {
    "execution": {
     "iopub.execute_input": "2025-03-09T14:23:24.407024Z",
     "iopub.status.busy": "2025-03-09T14:23:24.406679Z",
     "iopub.status.idle": "2025-03-09T14:23:24.433820Z",
     "shell.execute_reply": "2025-03-09T14:23:24.432369Z",
     "shell.execute_reply.started": "2025-03-09T14:23:24.406989Z"
    },
    "trusted": true
   },
   "outputs": [],
   "source": [
    "X_train, X_test, y_train, y_test = train_test_split(X, y, test_size=0.2, random_state=42)"
   ]
  },
  {
   "cell_type": "code",
   "execution_count": 17,
   "metadata": {
    "execution": {
     "iopub.execute_input": "2025-03-09T14:23:24.435398Z",
     "iopub.status.busy": "2025-03-09T14:23:24.435005Z",
     "iopub.status.idle": "2025-03-09T14:23:24.447426Z",
     "shell.execute_reply": "2025-03-09T14:23:24.446004Z",
     "shell.execute_reply.started": "2025-03-09T14:23:24.435365Z"
    },
    "trusted": true
   },
   "outputs": [
    {
     "name": "stdout",
     "output_type": "stream",
     "text": [
      "(62, 27578)\n",
      "(16, 27578)\n",
      "(62,)\n",
      "(16,)\n"
     ]
    }
   ],
   "source": [
    "print(X_train.shape)\n",
    "print(X_test.shape)\n",
    "print(y_train.shape)\n",
    "print(y_test.shape)"
   ]
  },
  {
   "cell_type": "markdown",
   "metadata": {},
   "source": [
    "# Preprocessing"
   ]
  },
  {
   "cell_type": "markdown",
   "metadata": {},
   "source": [
    "# Building a Baseline Model"
   ]
  },
  {
   "cell_type": "code",
   "execution_count": 18,
   "metadata": {
    "execution": {
     "iopub.execute_input": "2025-03-09T14:23:24.449088Z",
     "iopub.status.busy": "2025-03-09T14:23:24.448671Z",
     "iopub.status.idle": "2025-03-09T14:23:24.471122Z",
     "shell.execute_reply": "2025-03-09T14:23:24.469469Z",
     "shell.execute_reply.started": "2025-03-09T14:23:24.449045Z"
    },
    "trusted": true
   },
   "outputs": [],
   "source": [
    "model_lr = LinearRegression()\n",
    "model_rf = RandomForestRegressor(n_estimators=100, random_state=42)\n",
    "\n",
    "def model_building(x_train, y_train, x_test, y_test):\n",
    "  # Linear Regression Model\n",
    "  model_lr.fit(x_train, y_train)\n",
    "  y_pred_lr = model_lr.predict(x_test)\n",
    "  MSE = mean_squared_error(y_test, y_pred_lr)\n",
    "  RMSE = np.sqrt(MSE)\n",
    "  R2_Score = r2_score(y_test, y_pred_lr)\n",
    "  print(\"Linear Regression Model\")\n",
    "  print(\"MSE: \", MSE)\n",
    "  print(\"RMSE: \", RMSE)\n",
    "  print(\"R2 Score: \", R2_Score)\n",
    "\n",
    "  # Random Forest Regressor\n",
    "  model_rf.fit(x_train, y_train)\n",
    "  y_pred_rf = model_rf.predict(x_test)\n",
    "  MSE = mean_squared_error(y_test, y_pred_rf)\n",
    "  RMSE = np.sqrt(MSE)\n",
    "  R2_Score = r2_score(y_test, y_pred_rf)\n",
    "  print(\"------------------------------\")\n",
    "  print(\"Random Forest Regression Model\")\n",
    "  print(\"MSE: \", MSE)\n",
    "  print(\"RMSE: \", RMSE)\n",
    "  print(\"R2 Score: \", R2_Score)\n",
    "  \n"
   ]
  },
  {
   "cell_type": "code",
   "execution_count": 20,
   "metadata": {
    "execution": {
     "iopub.execute_input": "2025-03-09T14:23:52.543822Z",
     "iopub.status.busy": "2025-03-09T14:23:52.543403Z",
     "iopub.status.idle": "2025-03-09T14:24:35.575765Z",
     "shell.execute_reply": "2025-03-09T14:24:35.574532Z",
     "shell.execute_reply.started": "2025-03-09T14:23:52.543789Z"
    },
    "trusted": true
   },
   "outputs": [
    {
     "name": "stdout",
     "output_type": "stream",
     "text": [
      "Linear Regression Model\n",
      "MSE:  97.65504825366648\n",
      "RMSE:  9.882056883749783\n",
      "R2 Score:  0.872823643123802\n",
      "------------------------------\n",
      "Random Forest Regression Model\n",
      "MSE:  122.38440625000004\n",
      "RMSE:  11.062748584777657\n",
      "R2 Score:  0.8406185527152485\n"
     ]
    }
   ],
   "source": [
    "model_building(X_train, y_train, X_test, y_test)"
   ]
  },
  {
   "cell_type": "markdown",
   "metadata": {},
   "source": [
    "# Feature Selection and Optimized Model Building"
   ]
  },
  {
   "cell_type": "code",
   "execution_count": 21,
   "metadata": {
    "execution": {
     "iopub.execute_input": "2025-03-09T14:24:35.577268Z",
     "iopub.status.busy": "2025-03-09T14:24:35.576989Z",
     "iopub.status.idle": "2025-03-09T14:24:35.586679Z",
     "shell.execute_reply": "2025-03-09T14:24:35.585664Z",
     "shell.execute_reply.started": "2025-03-09T14:24:35.577236Z"
    },
    "trusted": true
   },
   "outputs": [],
   "source": [
    "def feature_selection_model_building(x_train, x_test, y_train, y_test, model_type):\n",
    "    no_features = [90, 80, 70, 60, 50, 40, 30, 20, 10]\n",
    "    MSE, RMSE, R2_Score = [], [], []\n",
    "    important_features = {}\n",
    "\n",
    "    if model_type == \"linear\":\n",
    "        base_model = LinearRegression()\n",
    "        selected_features_dict = {}  \n",
    "\n",
    "        for i in no_features:\n",
    "            rfe = RFE(estimator=base_model, n_features_to_select=i, step=250) \n",
    "            rfe.fit(x_train, y_train)\n",
    "            selected_features_dict[i] = x_train.columns[rfe.support_]\n",
    "\n",
    "    elif model_type == \"random_forest\":\n",
    "        base_model = RandomForestRegressor(n_estimators=100, random_state=42, n_jobs=-1)\n",
    "        base_model.fit(x_train, y_train)\n",
    "        feature_importances = pd.Series(base_model.feature_importances_, index=x_train.columns)\n",
    "        feature_importances = feature_importances.sort_values(ascending=False)\n",
    "\n",
    "    for i in no_features:\n",
    "        if model_type == \"random_forest\":\n",
    "            selected_features = feature_importances.iloc[:i].index \n",
    "        else:\n",
    "            selected_features = selected_features_dict[i]\n",
    "\n",
    "        x_train_selected = x_train[selected_features]\n",
    "        x_test_selected = x_test[selected_features]\n",
    "\n",
    "        base_model.fit(x_train_selected, y_train)\n",
    "        y_pred = base_model.predict(x_test_selected)\n",
    "\n",
    "        MSE.append(mean_squared_error(y_test, y_pred))\n",
    "        RMSE.append(np.sqrt(mean_squared_error(y_test, y_pred)))\n",
    "        R2_Score.append(r2_score(y_test, y_pred))\n",
    "        important_features[i] = list(selected_features)\n",
    "\n",
    "    results = pd.DataFrame({\n",
    "        \"No. of Features\": no_features,\n",
    "        \"MSE\": MSE,\n",
    "        \"RMSE\": RMSE,\n",
    "        \"R2 Score\": R2_Score\n",
    "    })\n",
    "\n",
    "    return results, important_features\n"
   ]
  },
  {
   "cell_type": "code",
   "execution_count": 22,
   "metadata": {
    "execution": {
     "iopub.execute_input": "2025-03-09T14:24:35.589044Z",
     "iopub.status.busy": "2025-03-09T14:24:35.588678Z",
     "iopub.status.idle": "2025-03-09T14:25:17.352751Z",
     "shell.execute_reply": "2025-03-09T14:25:17.351553Z",
     "shell.execute_reply.started": "2025-03-09T14:24:35.589013Z"
    },
    "trusted": true
   },
   "outputs": [],
   "source": [
    "LR_result, LR_important_features = feature_selection_model_building(X_train, X_test, y_train, y_test, \"linear\")"
   ]
  },
  {
   "cell_type": "code",
   "execution_count": 23,
   "metadata": {
    "execution": {
     "iopub.execute_input": "2025-03-09T14:25:17.354610Z",
     "iopub.status.busy": "2025-03-09T14:25:17.354261Z",
     "iopub.status.idle": "2025-03-09T14:25:17.369084Z",
     "shell.execute_reply": "2025-03-09T14:25:17.367906Z",
     "shell.execute_reply.started": "2025-03-09T14:25:17.354573Z"
    },
    "trusted": true
   },
   "outputs": [
    {
     "data": {
      "text/html": [
       "<div>\n",
       "<style scoped>\n",
       "    .dataframe tbody tr th:only-of-type {\n",
       "        vertical-align: middle;\n",
       "    }\n",
       "\n",
       "    .dataframe tbody tr th {\n",
       "        vertical-align: top;\n",
       "    }\n",
       "\n",
       "    .dataframe thead th {\n",
       "        text-align: right;\n",
       "    }\n",
       "</style>\n",
       "<table border=\"1\" class=\"dataframe\">\n",
       "  <thead>\n",
       "    <tr style=\"text-align: right;\">\n",
       "      <th></th>\n",
       "      <th>No. of Features</th>\n",
       "      <th>MSE</th>\n",
       "      <th>RMSE</th>\n",
       "      <th>R2 Score</th>\n",
       "    </tr>\n",
       "  </thead>\n",
       "  <tbody>\n",
       "    <tr>\n",
       "      <th>7</th>\n",
       "      <td>20</td>\n",
       "      <td>52.909648</td>\n",
       "      <td>7.273902</td>\n",
       "      <td>0.931096</td>\n",
       "    </tr>\n",
       "    <tr>\n",
       "      <th>8</th>\n",
       "      <td>10</td>\n",
       "      <td>62.006748</td>\n",
       "      <td>7.874436</td>\n",
       "      <td>0.919248</td>\n",
       "    </tr>\n",
       "    <tr>\n",
       "      <th>6</th>\n",
       "      <td>30</td>\n",
       "      <td>87.891747</td>\n",
       "      <td>9.375060</td>\n",
       "      <td>0.885538</td>\n",
       "    </tr>\n",
       "    <tr>\n",
       "      <th>0</th>\n",
       "      <td>90</td>\n",
       "      <td>117.635060</td>\n",
       "      <td>10.845970</td>\n",
       "      <td>0.846804</td>\n",
       "    </tr>\n",
       "    <tr>\n",
       "      <th>3</th>\n",
       "      <td>60</td>\n",
       "      <td>144.468852</td>\n",
       "      <td>12.019520</td>\n",
       "      <td>0.811858</td>\n",
       "    </tr>\n",
       "    <tr>\n",
       "      <th>1</th>\n",
       "      <td>80</td>\n",
       "      <td>148.698477</td>\n",
       "      <td>12.194198</td>\n",
       "      <td>0.806350</td>\n",
       "    </tr>\n",
       "    <tr>\n",
       "      <th>5</th>\n",
       "      <td>40</td>\n",
       "      <td>163.303429</td>\n",
       "      <td>12.779023</td>\n",
       "      <td>0.787330</td>\n",
       "    </tr>\n",
       "    <tr>\n",
       "      <th>4</th>\n",
       "      <td>50</td>\n",
       "      <td>171.109621</td>\n",
       "      <td>13.080888</td>\n",
       "      <td>0.777164</td>\n",
       "    </tr>\n",
       "    <tr>\n",
       "      <th>2</th>\n",
       "      <td>70</td>\n",
       "      <td>179.987876</td>\n",
       "      <td>13.415956</td>\n",
       "      <td>0.765601</td>\n",
       "    </tr>\n",
       "  </tbody>\n",
       "</table>\n",
       "</div>"
      ],
      "text/plain": [
       "   No. of Features         MSE       RMSE  R2 Score\n",
       "7               20   52.909648   7.273902  0.931096\n",
       "8               10   62.006748   7.874436  0.919248\n",
       "6               30   87.891747   9.375060  0.885538\n",
       "0               90  117.635060  10.845970  0.846804\n",
       "3               60  144.468852  12.019520  0.811858\n",
       "1               80  148.698477  12.194198  0.806350\n",
       "5               40  163.303429  12.779023  0.787330\n",
       "4               50  171.109621  13.080888  0.777164\n",
       "2               70  179.987876  13.415956  0.765601"
      ]
     },
     "execution_count": 23,
     "metadata": {},
     "output_type": "execute_result"
    }
   ],
   "source": [
    "# This table shows model evaluation metrics for different numbers of features for a Linear Regression Model\n",
    "# No. of Features: Number of input features used in the model\n",
    "# MSE: Mean Squared Error (lower is better)\n",
    "# RMSE: Root Mean Squared Error (lower is better)\n",
    "# R2 Score: The proportion of variance explained by the model (higher is better)\n",
    "\n",
    "LR_result.sort_values(\"MSE\", ascending=True)"
   ]
  },
  {
   "cell_type": "code",
   "execution_count": 25,
   "metadata": {
    "execution": {
     "iopub.execute_input": "2025-03-09T14:28:09.853570Z",
     "iopub.status.busy": "2025-03-09T14:28:09.853133Z",
     "iopub.status.idle": "2025-03-09T14:28:28.245776Z",
     "shell.execute_reply": "2025-03-09T14:28:28.244719Z",
     "shell.execute_reply.started": "2025-03-09T14:28:09.853535Z"
    },
    "trusted": true
   },
   "outputs": [],
   "source": [
    "RF_result, RF_important_features = feature_selection_model_building(X_train, X_test, y_train, y_test, \"random_forest\")"
   ]
  },
  {
   "cell_type": "code",
   "execution_count": 26,
   "metadata": {
    "execution": {
     "iopub.execute_input": "2025-03-09T14:28:28.247163Z",
     "iopub.status.busy": "2025-03-09T14:28:28.246908Z",
     "iopub.status.idle": "2025-03-09T14:28:28.259651Z",
     "shell.execute_reply": "2025-03-09T14:28:28.258430Z",
     "shell.execute_reply.started": "2025-03-09T14:28:28.247142Z"
    },
    "trusted": true
   },
   "outputs": [
    {
     "data": {
      "text/html": [
       "<div>\n",
       "<style scoped>\n",
       "    .dataframe tbody tr th:only-of-type {\n",
       "        vertical-align: middle;\n",
       "    }\n",
       "\n",
       "    .dataframe tbody tr th {\n",
       "        vertical-align: top;\n",
       "    }\n",
       "\n",
       "    .dataframe thead th {\n",
       "        text-align: right;\n",
       "    }\n",
       "</style>\n",
       "<table border=\"1\" class=\"dataframe\">\n",
       "  <thead>\n",
       "    <tr style=\"text-align: right;\">\n",
       "      <th></th>\n",
       "      <th>No. of Features</th>\n",
       "      <th>MSE</th>\n",
       "      <th>RMSE</th>\n",
       "      <th>R2 Score</th>\n",
       "    </tr>\n",
       "  </thead>\n",
       "  <tbody>\n",
       "    <tr>\n",
       "      <th>7</th>\n",
       "      <td>20</td>\n",
       "      <td>79.978163</td>\n",
       "      <td>8.943051</td>\n",
       "      <td>0.895844</td>\n",
       "    </tr>\n",
       "    <tr>\n",
       "      <th>6</th>\n",
       "      <td>30</td>\n",
       "      <td>85.214262</td>\n",
       "      <td>9.231157</td>\n",
       "      <td>0.889025</td>\n",
       "    </tr>\n",
       "    <tr>\n",
       "      <th>8</th>\n",
       "      <td>10</td>\n",
       "      <td>97.948725</td>\n",
       "      <td>9.896905</td>\n",
       "      <td>0.872441</td>\n",
       "    </tr>\n",
       "    <tr>\n",
       "      <th>2</th>\n",
       "      <td>70</td>\n",
       "      <td>99.638813</td>\n",
       "      <td>9.981924</td>\n",
       "      <td>0.870240</td>\n",
       "    </tr>\n",
       "    <tr>\n",
       "      <th>5</th>\n",
       "      <td>40</td>\n",
       "      <td>100.468819</td>\n",
       "      <td>10.023414</td>\n",
       "      <td>0.869159</td>\n",
       "    </tr>\n",
       "    <tr>\n",
       "      <th>4</th>\n",
       "      <td>50</td>\n",
       "      <td>102.241737</td>\n",
       "      <td>10.111466</td>\n",
       "      <td>0.866850</td>\n",
       "    </tr>\n",
       "    <tr>\n",
       "      <th>3</th>\n",
       "      <td>60</td>\n",
       "      <td>103.913737</td>\n",
       "      <td>10.193809</td>\n",
       "      <td>0.864673</td>\n",
       "    </tr>\n",
       "    <tr>\n",
       "      <th>1</th>\n",
       "      <td>80</td>\n",
       "      <td>105.207913</td>\n",
       "      <td>10.257091</td>\n",
       "      <td>0.862988</td>\n",
       "    </tr>\n",
       "    <tr>\n",
       "      <th>0</th>\n",
       "      <td>90</td>\n",
       "      <td>109.411019</td>\n",
       "      <td>10.459972</td>\n",
       "      <td>0.857514</td>\n",
       "    </tr>\n",
       "  </tbody>\n",
       "</table>\n",
       "</div>"
      ],
      "text/plain": [
       "   No. of Features         MSE       RMSE  R2 Score\n",
       "7               20   79.978163   8.943051  0.895844\n",
       "6               30   85.214262   9.231157  0.889025\n",
       "8               10   97.948725   9.896905  0.872441\n",
       "2               70   99.638813   9.981924  0.870240\n",
       "5               40  100.468819  10.023414  0.869159\n",
       "4               50  102.241737  10.111466  0.866850\n",
       "3               60  103.913737  10.193809  0.864673\n",
       "1               80  105.207913  10.257091  0.862988\n",
       "0               90  109.411019  10.459972  0.857514"
      ]
     },
     "execution_count": 26,
     "metadata": {},
     "output_type": "execute_result"
    }
   ],
   "source": [
    "# This table shows model evaluation metrics for different numbers of features for a Random Forest Regression Model\n",
    "# No. of Features: Number of input features used in the model\n",
    "# MSE: Mean Squared Error (lower is better)\n",
    "# RMSE: Root Mean Squared Error (lower is better)\n",
    "# R2 Score: The proportion of variance explained by the model (higher is better)\n",
    "RF_result.sort_values(\"MSE\", ascending=True)"
   ]
  },
  {
   "cell_type": "markdown",
   "metadata": {},
   "source": [
    "# Optimized Model Evaluation"
   ]
  },
  {
   "cell_type": "code",
   "execution_count": 27,
   "metadata": {
    "execution": {
     "iopub.execute_input": "2025-03-09T14:28:28.262055Z",
     "iopub.status.busy": "2025-03-09T14:28:28.261771Z",
     "iopub.status.idle": "2025-03-09T14:28:28.571973Z",
     "shell.execute_reply": "2025-03-09T14:28:28.570927Z",
     "shell.execute_reply.started": "2025-03-09T14:28:28.262030Z"
    },
    "trusted": true
   },
   "outputs": [
    {
     "data": {
      "image/png": "[encoded data removed]",
      "text/plain": [
       "<Figure size 640x480 with 1 Axes>"
      ]
     },
     "metadata": {},
     "output_type": "display_data"
    }
   ],
   "source": [
    "RF_result.plot(x=\"No. of Features\", y=\"MSE\", kind=\"bar\", legend=False, color=\"red\",edgecolor=\"black\")\n",
    "plt.xlabel(\"Number of Features\", y=1.5)\n",
    "plt.ylabel(\"MSE\")\n",
    "plt.title(\"Number of Features vs MSE\", y=1.01)\n",
    "plt.suptitle(\"Random Forest Regression\", y=1.01)\n",
    "plt.show()\n"
   ]
  },
  {
   "cell_type": "code",
   "execution_count": 28,
   "metadata": {
    "execution": {
     "iopub.execute_input": "2025-03-09T14:28:28.573267Z",
     "iopub.status.busy": "2025-03-09T14:28:28.573003Z",
     "iopub.status.idle": "2025-03-09T14:28:28.763555Z",
     "shell.execute_reply": "2025-03-09T14:28:28.762502Z",
     "shell.execute_reply.started": "2025-03-09T14:28:28.573245Z"
    },
    "trusted": true
   },
   "outputs": [
    {
     "data": {
      "image/png": "[encoded data removed]",
      "text/plain": [
       "<Figure size 640x480 with 1 Axes>"
      ]
     },
     "metadata": {},
     "output_type": "display_data"
    }
   ],
   "source": [
    "LR_result.plot(x=\"No. of Features\", y=\"MSE\", kind=\"bar\", legend=False, edgecolor=\"black\")\n",
    "plt.xlabel(\"Number of Features\", y = 1.5)\n",
    "plt.ylabel(\"MSE\")\n",
    "plt.title(\"Number of Features vs MSE\", y=1.01)\n",
    "plt.suptitle(\"Linear Regression\", y=1.01)\n",
    "plt.show()\n"
   ]
  },
  {
   "cell_type": "code",
   "execution_count": 29,
   "metadata": {
    "execution": {
     "iopub.execute_input": "2025-03-09T14:28:28.765021Z",
     "iopub.status.busy": "2025-03-09T14:28:28.764683Z",
     "iopub.status.idle": "2025-03-09T14:28:28.979093Z",
     "shell.execute_reply": "2025-03-09T14:28:28.977918Z",
     "shell.execute_reply.started": "2025-03-09T14:28:28.764984Z"
    },
    "trusted": true
   },
   "outputs": [
    {
     "data": {
      "image/png": "[encoded data removed]",
      "text/plain": [
       "<Figure size 640x480 with 1 Axes>"
      ]
     },
     "metadata": {},
     "output_type": "display_data"
    }
   ],
   "source": [
    "RF_result.plot(x=\"No. of Features\", y=\"MSE\", kind=\"line\")\n",
    "plt.xlabel(\"Number of Features\", y = 1.5)\n",
    "plt.ylabel(\"MSE\")\n",
    "plt.title(\"Number of Features vs MSE\", y=1.01)\n",
    "plt.suptitle(\"Random Forest Regression\", y=1.01)\n",
    "plt.show()"
   ]
  },
  {
   "cell_type": "code",
   "execution_count": 30,
   "metadata": {
    "execution": {
     "iopub.execute_input": "2025-03-09T14:28:28.980952Z",
     "iopub.status.busy": "2025-03-09T14:28:28.980585Z",
     "iopub.status.idle": "2025-03-09T14:28:29.190353Z",
     "shell.execute_reply": "2025-03-09T14:28:29.189249Z",
     "shell.execute_reply.started": "2025-03-09T14:28:28.980920Z"
    },
    "trusted": true
   },
   "outputs": [
    {
     "data": {
      "image/png": "[encoded data removed]",
      "text/plain": [
       "<Figure size 640x480 with 1 Axes>"
      ]
     },
     "metadata": {},
     "output_type": "display_data"
    }
   ],
   "source": [
    "LR_result.plot(x=\"No. of Features\", y=\"MSE\", kind=\"line\")\n",
    "plt.xlabel(\"Number of Features\", y = 1.5)\n",
    "plt.ylabel(\"MSE\")\n",
    "plt.title(\"Number of Features vs MSE\", y=1.01)\n",
    "plt.suptitle(\"Linear Forest Regression\", y=1.01)\n",
    "plt.show()"
   ]
  },
  {
   "cell_type": "code",
   "execution_count": 35,
   "metadata": {
    "execution": {
     "iopub.execute_input": "2025-03-09T14:34:33.944615Z",
     "iopub.status.busy": "2025-03-09T14:34:33.944199Z",
     "iopub.status.idle": "2025-03-09T14:34:33.949560Z",
     "shell.execute_reply": "2025-03-09T14:34:33.948271Z",
     "shell.execute_reply.started": "2025-03-09T14:34:33.944584Z"
    },
    "trusted": true
   },
   "outputs": [],
   "source": [
    "LR_top_20_important_features = list(LR_important_features[20])\n",
    "RF_top_20_important_features = list(RF_important_features[20])"
   ]
  },
  {
   "cell_type": "code",
   "execution_count": 36,
   "metadata": {
    "execution": {
     "iopub.execute_input": "2025-03-09T14:34:39.694049Z",
     "iopub.status.busy": "2025-03-09T14:34:39.693699Z",
     "iopub.status.idle": "2025-03-09T14:34:39.700334Z",
     "shell.execute_reply": "2025-03-09T14:34:39.699196Z",
     "shell.execute_reply.started": "2025-03-09T14:34:39.694025Z"
    },
    "trusted": true
   },
   "outputs": [
    {
     "data": {
      "text/plain": [
       "['cg16076328',\n",
       " 'cg19352038',\n",
       " 'cg06821120',\n",
       " 'cg14189571',\n",
       " 'cg05890484',\n",
       " 'cg22736354',\n",
       " 'cg25226247',\n",
       " 'cg20748065',\n",
       " 'cg07740640',\n",
       " 'cg02512860',\n",
       " 'cg03924115',\n",
       " 'cg21120249',\n",
       " 'cg21019522',\n",
       " 'cg07829804',\n",
       " 'cg01443630',\n",
       " 'cg06144905',\n",
       " 'cg26927807',\n",
       " 'cg23878206',\n",
       " 'cg03562120',\n",
       " 'cg20244073']"
      ]
     },
     "execution_count": 36,
     "metadata": {},
     "output_type": "execute_result"
    }
   ],
   "source": [
    "LR_top_20_important_features"
   ]
  },
  {
   "cell_type": "code",
   "execution_count": 37,
   "metadata": {
    "execution": {
     "iopub.execute_input": "2025-03-09T14:34:47.126081Z",
     "iopub.status.busy": "2025-03-09T14:34:47.125680Z",
     "iopub.status.idle": "2025-03-09T14:34:47.132114Z",
     "shell.execute_reply": "2025-03-09T14:34:47.131178Z",
     "shell.execute_reply.started": "2025-03-09T14:34:47.126050Z"
    },
    "trusted": true
   },
   "outputs": [
    {
     "data": {
      "text/plain": [
       "['cg22736354',\n",
       " 'cg01644850',\n",
       " 'cg06144905',\n",
       " 'cg25136310',\n",
       " 'cg00548268',\n",
       " 'cg18108623',\n",
       " 'cg03664992',\n",
       " 'cg08370996',\n",
       " 'cg11432797',\n",
       " 'cg19996355',\n",
       " 'cg14127659',\n",
       " 'cg06821120',\n",
       " 'cg14121103',\n",
       " 'cg03924115',\n",
       " 'cg17655614',\n",
       " 'cg10705800',\n",
       " 'cg10287137',\n",
       " 'cg00075967',\n",
       " 'cg08912400',\n",
       " 'cg05135288']"
      ]
     },
     "execution_count": 37,
     "metadata": {},
     "output_type": "execute_result"
    }
   ],
   "source": [
    "RF_top_20_important_features"
   ]
  },
  {
   "cell_type": "code",
   "execution_count": 38,
   "metadata": {
    "execution": {
     "iopub.execute_input": "2025-03-09T14:36:09.727676Z",
     "iopub.status.busy": "2025-03-09T14:36:09.727261Z",
     "iopub.status.idle": "2025-03-09T14:36:09.731969Z",
     "shell.execute_reply": "2025-03-09T14:36:09.730943Z",
     "shell.execute_reply.started": "2025-03-09T14:36:09.727644Z"
    },
    "trusted": true
   },
   "outputs": [],
   "source": [
    "common_features = list(set(RF_top_20_important_features) & set(LR_top_20_important_features))"
   ]
  },
  {
   "cell_type": "code",
   "execution_count": 39,
   "metadata": {
    "execution": {
     "iopub.execute_input": "2025-03-09T14:36:16.761252Z",
     "iopub.status.busy": "2025-03-09T14:36:16.760896Z",
     "iopub.status.idle": "2025-03-09T14:36:16.767458Z",
     "shell.execute_reply": "2025-03-09T14:36:16.766176Z",
     "shell.execute_reply.started": "2025-03-09T14:36:16.761221Z"
    },
    "trusted": true
   },
   "outputs": [
    {
     "data": {
      "text/plain": [
       "['cg06144905', 'cg03924115', 'cg22736354', 'cg06821120']"
      ]
     },
     "execution_count": 39,
     "metadata": {},
     "output_type": "execute_result"
    }
   ],
   "source": [
    "common_features"
   ]
  }
 ],
 "metadata": {
  "kaggle": {
   "accelerator": "none",
   "dataSources": [
    {
     "datasetId": 6819477,
     "sourceId": 10961369,
     "sourceType": "datasetVersion"
    }
   ],
   "dockerImageVersionId": 30918,
   "isGpuEnabled": false,
   "isInternetEnabled": true,
   "language": "python",
   "sourceType": "notebook"
  },
  "kernelspec": {
   "display_name": "Python 3",
   "language": "python",
   "name": "python3"
  },
  "language_info": {
   "codemirror_mode": {
    "name": "ipython",
    "version": 3
   },
   "file_extension": ".py",
   "mimetype": "text/x-python",
   "name": "python",
   "nbconvert_exporter": "python",
   "pygments_lexer": "ipython3",
   "version": "3.10.12"
  }
 },
 "nbformat": 4,
 "nbformat_minor": 4
}
